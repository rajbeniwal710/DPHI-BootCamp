{
  "nbformat": 4,
  "nbformat_minor": 0,
  "metadata": {
    "colab": {
      "name": "Untitled10.ipynb",
      "provenance": []
    },
    "kernelspec": {
      "name": "python3",
      "display_name": "Python 3"
    }
  },
  "cells": [
    {
      "cell_type": "code",
      "metadata": {
        "id": "mH0iTxSMZ27H"
      },
      "source": [
        "import pandas as pd\r\n",
        "insurance_data = pd.read_csv(\"https://github.com/dphi-official/Datasets/blob/master/travel_insurance/Training_set_label.csv?raw=true\")"
      ],
      "execution_count": null,
      "outputs": []
    },
    {
      "cell_type": "code",
      "metadata": {
        "colab": {
          "base_uri": "https://localhost:8080/"
        },
        "id": "4SW6qHhYZ4MY",
        "outputId": "ff9b3490-ed6b-42a8-996a-5281a20ddd1c"
      },
      "source": [
        "insurance_data.info()"
      ],
      "execution_count": null,
      "outputs": [
        {
          "output_type": "stream",
          "text": [
            "<class 'pandas.core.frame.DataFrame'>\n",
            "RangeIndex: 48260 entries, 0 to 48259\n",
            "Data columns (total 11 columns):\n",
            " #   Column                Non-Null Count  Dtype  \n",
            "---  ------                --------------  -----  \n",
            " 0   Agency                48260 non-null  object \n",
            " 1   Agency Type           48260 non-null  object \n",
            " 2   Distribution Channel  48260 non-null  object \n",
            " 3   Product Name          48260 non-null  object \n",
            " 4   Duration              48260 non-null  int64  \n",
            " 5   Destination           48260 non-null  object \n",
            " 6   Net Sales             48260 non-null  float64\n",
            " 7   Commision (in value)  48260 non-null  float64\n",
            " 8   Gender                13899 non-null  object \n",
            " 9   Age                   48260 non-null  int64  \n",
            " 10  Claim                 48260 non-null  int64  \n",
            "dtypes: float64(2), int64(3), object(6)\n",
            "memory usage: 4.1+ MB\n"
          ],
          "name": "stdout"
        }
      ]
    },
    {
      "cell_type": "code",
      "metadata": {
        "colab": {
          "base_uri": "https://localhost:8080/"
        },
        "id": "XNQGP94uacF1",
        "outputId": "e7d1be9b-1b21-4495-e621-4babefed383e"
      },
      "source": [
        "#missing values in the dataset\r\n",
        "insurance_data.isna().sum()"
      ],
      "execution_count": null,
      "outputs": [
        {
          "output_type": "execute_result",
          "data": {
            "text/plain": [
              "Agency                      0\n",
              "Agency Type                 0\n",
              "Distribution Channel        0\n",
              "Product Name                0\n",
              "Duration                    0\n",
              "Destination                 0\n",
              "Net Sales                   0\n",
              "Commision (in value)        0\n",
              "Gender                  34361\n",
              "Age                         0\n",
              "Claim                       0\n",
              "dtype: int64"
            ]
          },
          "metadata": {
            "tags": []
          },
          "execution_count": 3
        }
      ]
    },
    {
      "cell_type": "code",
      "metadata": {
        "id": "UL3h5LyZa9pF"
      },
      "source": [
        "import matplotlib.pyplot as plt"
      ],
      "execution_count": null,
      "outputs": []
    },
    {
      "cell_type": "code",
      "metadata": {
        "colab": {
          "base_uri": "https://localhost:8080/",
          "height": 369
        },
        "id": "PzXNEx00al6H",
        "outputId": "dd931b0c-63e0-406f-d377-f0db3e07cbd1"
      },
      "source": [
        "plt.hist(insurance_data['Duration'])"
      ],
      "execution_count": null,
      "outputs": [
        {
          "output_type": "execute_result",
          "data": {
            "text/plain": [
              "(array([4.8238e+04, 1.0000e+01, 0.0000e+00, 0.0000e+00, 0.0000e+00,\n",
              "        0.0000e+00, 0.0000e+00, 0.0000e+00, 0.0000e+00, 1.2000e+01]),\n",
              " array([-2.0000e+00,  4.8630e+02,  9.7460e+02,  1.4629e+03,  1.9512e+03,\n",
              "         2.4395e+03,  2.9278e+03,  3.4161e+03,  3.9044e+03,  4.3927e+03,\n",
              "         4.8810e+03]),\n",
              " <a list of 10 Patch objects>)"
            ]
          },
          "metadata": {
            "tags": []
          },
          "execution_count": 5
        },
        {
          "output_type": "display_data",
          "data": {
            "image/png": "[encoded data removed]",
            "text/plain": [
              "<Figure size 432x288 with 1 Axes>"
            ]
          },
          "metadata": {
            "tags": [],
            "needs_background": "light"
          }
        }
      ]
    },
    {
      "cell_type": "code",
      "metadata": {
        "colab": {
          "base_uri": "https://localhost:8080/",
          "height": 297
        },
        "id": "SoZ4w2Uqa5S7",
        "outputId": "e114a474-b6c6-487c-8c5d-22e2a805c1c8"
      },
      "source": [
        "insurance_data.describe()"
      ],
      "execution_count": null,
      "outputs": [
        {
          "output_type": "execute_result",
          "data": {
            "text/html": [
              "<div>\n",
              "<style scoped>\n",
              "    .dataframe tbody tr th:only-of-type {\n",
              "        vertical-align: middle;\n",
              "    }\n",
              "\n",
              "    .dataframe tbody tr th {\n",
              "        vertical-align: top;\n",
              "    }\n",
              "\n",
              "    .dataframe thead th {\n",
              "        text-align: right;\n",
              "    }\n",
              "</style>\n",
              "<table border=\"1\" class=\"dataframe\">\n",
              "  <thead>\n",
              "    <tr style=\"text-align: right;\">\n",
              "      <th></th>\n",
              "      <th>Duration</th>\n",
              "      <th>Net Sales</th>\n",
              "      <th>Commision (in value)</th>\n",
              "      <th>Age</th>\n",
              "      <th>Claim</th>\n",
              "    </tr>\n",
              "  </thead>\n",
              "  <tbody>\n",
              "    <tr>\n",
              "      <th>count</th>\n",
              "      <td>48260.000000</td>\n",
              "      <td>48260.000000</td>\n",
              "      <td>48260.000000</td>\n",
              "      <td>48260.000000</td>\n",
              "      <td>48260.000000</td>\n",
              "    </tr>\n",
              "    <tr>\n",
              "      <th>mean</th>\n",
              "      <td>49.546602</td>\n",
              "      <td>40.747647</td>\n",
              "      <td>9.811735</td>\n",
              "      <td>39.927269</td>\n",
              "      <td>0.014671</td>\n",
              "    </tr>\n",
              "    <tr>\n",
              "      <th>std</th>\n",
              "      <td>104.828147</td>\n",
              "      <td>48.823217</td>\n",
              "      <td>19.695339</td>\n",
              "      <td>14.027329</td>\n",
              "      <td>0.120231</td>\n",
              "    </tr>\n",
              "    <tr>\n",
              "      <th>min</th>\n",
              "      <td>-2.000000</td>\n",
              "      <td>-389.000000</td>\n",
              "      <td>0.000000</td>\n",
              "      <td>0.000000</td>\n",
              "      <td>0.000000</td>\n",
              "    </tr>\n",
              "    <tr>\n",
              "      <th>25%</th>\n",
              "      <td>9.000000</td>\n",
              "      <td>18.000000</td>\n",
              "      <td>0.000000</td>\n",
              "      <td>35.000000</td>\n",
              "      <td>0.000000</td>\n",
              "    </tr>\n",
              "    <tr>\n",
              "      <th>50%</th>\n",
              "      <td>22.000000</td>\n",
              "      <td>27.000000</td>\n",
              "      <td>0.000000</td>\n",
              "      <td>36.000000</td>\n",
              "      <td>0.000000</td>\n",
              "    </tr>\n",
              "    <tr>\n",
              "      <th>75%</th>\n",
              "      <td>53.000000</td>\n",
              "      <td>48.000000</td>\n",
              "      <td>11.630000</td>\n",
              "      <td>43.000000</td>\n",
              "      <td>0.000000</td>\n",
              "    </tr>\n",
              "    <tr>\n",
              "      <th>max</th>\n",
              "      <td>4881.000000</td>\n",
              "      <td>666.000000</td>\n",
              "      <td>262.760000</td>\n",
              "      <td>118.000000</td>\n",
              "      <td>1.000000</td>\n",
              "    </tr>\n",
              "  </tbody>\n",
              "</table>\n",
              "</div>"
            ],
            "text/plain": [
              "           Duration     Net Sales  ...           Age         Claim\n",
              "count  48260.000000  48260.000000  ...  48260.000000  48260.000000\n",
              "mean      49.546602     40.747647  ...     39.927269      0.014671\n",
              "std      104.828147     48.823217  ...     14.027329      0.120231\n",
              "min       -2.000000   -389.000000  ...      0.000000      0.000000\n",
              "25%        9.000000     18.000000  ...     35.000000      0.000000\n",
              "50%       22.000000     27.000000  ...     36.000000      0.000000\n",
              "75%       53.000000     48.000000  ...     43.000000      0.000000\n",
              "max     4881.000000    666.000000  ...    118.000000      1.000000\n",
              "\n",
              "[8 rows x 5 columns]"
            ]
          },
          "metadata": {
            "tags": []
          },
          "execution_count": 21
        }
      ]
    },
    {
      "cell_type": "code",
      "metadata": {
        "id": "EbJrcfi2bpXm"
      },
      "source": [
        "#Fill the missing values in 'Gender' column with 'Not Specified'\r\n",
        "insurance_data['Gender'] = insurance_data['Gender'].fillna('Not Specified')"
      ],
      "execution_count": null,
      "outputs": []
    },
    {
      "cell_type": "code",
      "metadata": {
        "id": "ltL7D2hNfAQk"
      },
      "source": [
        "#Drop 'Distribution Channel', 'Destination' and 'Agency Type'.\r\n",
        "insurance_data = insurance_data.drop(['Distribution Channel', 'Destination', 'Agency Type'],axis = 1)"
      ],
      "execution_count": null,
      "outputs": []
    },
    {
      "cell_type": "code",
      "metadata": {
        "id": "ZCbkFs2fiyJ9"
      },
      "source": [
        "data = insurance_data.copy()"
      ],
      "execution_count": null,
      "outputs": []
    },
    {
      "cell_type": "code",
      "metadata": {
        "id": "YGt5TPaKfvyA"
      },
      "source": [
        "col = ['Agency','Gender','Product Name']\r\n",
        "data = pd.get_dummies(data, columns = col)"
      ],
      "execution_count": null,
      "outputs": []
    },
    {
      "cell_type": "code",
      "metadata": {
        "colab": {
          "base_uri": "https://localhost:8080/",
          "height": 292
        },
        "id": "Ifsm3nEIieFG",
        "outputId": "b4d837ca-592b-475d-a794-f7184b732e41"
      },
      "source": [
        "data.head()"
      ],
      "execution_count": null,
      "outputs": [
        {
          "output_type": "execute_result",
          "data": {
            "text/html": [
              "<div>\n",
              "<style scoped>\n",
              "    .dataframe tbody tr th:only-of-type {\n",
              "        vertical-align: middle;\n",
              "    }\n",
              "\n",
              "    .dataframe tbody tr th {\n",
              "        vertical-align: top;\n",
              "    }\n",
              "\n",
              "    .dataframe thead th {\n",
              "        text-align: right;\n",
              "    }\n",
              "</style>\n",
              "<table border=\"1\" class=\"dataframe\">\n",
              "  <thead>\n",
              "    <tr style=\"text-align: right;\">\n",
              "      <th></th>\n",
              "      <th>Duration</th>\n",
              "      <th>Net Sales</th>\n",
              "      <th>Commision (in value)</th>\n",
              "      <th>Age</th>\n",
              "      <th>Claim</th>\n",
              "      <th>Agency_ADM</th>\n",
              "      <th>Agency_ART</th>\n",
              "      <th>Agency_C2B</th>\n",
              "      <th>Agency_CBH</th>\n",
              "      <th>Agency_CCR</th>\n",
              "      <th>Agency_CSR</th>\n",
              "      <th>Agency_CWT</th>\n",
              "      <th>Agency_EPX</th>\n",
              "      <th>Agency_JWT</th>\n",
              "      <th>Agency_JZI</th>\n",
              "      <th>Agency_KML</th>\n",
              "      <th>Agency_LWC</th>\n",
              "      <th>Agency_RAB</th>\n",
              "      <th>Agency_SSI</th>\n",
              "      <th>Agency_TST</th>\n",
              "      <th>Agency_TTW</th>\n",
              "      <th>Gender_F</th>\n",
              "      <th>Gender_M</th>\n",
              "      <th>Gender_Not Specified</th>\n",
              "      <th>Product Name_1 way Comprehensive Plan</th>\n",
              "      <th>Product Name_2 way Comprehensive Plan</th>\n",
              "      <th>Product Name_24 Protect</th>\n",
              "      <th>Product Name_Annual Gold Plan</th>\n",
              "      <th>Product Name_Annual Silver Plan</th>\n",
              "      <th>Product Name_Annual Travel Protect Gold</th>\n",
              "      <th>Product Name_Annual Travel Protect Platinum</th>\n",
              "      <th>Product Name_Annual Travel Protect Silver</th>\n",
              "      <th>Product Name_Basic Plan</th>\n",
              "      <th>Product Name_Bronze Plan</th>\n",
              "      <th>Product Name_Cancellation Plan</th>\n",
              "      <th>Product Name_Child Comprehensive Plan</th>\n",
              "      <th>Product Name_Comprehensive Plan</th>\n",
              "      <th>Product Name_Gold Plan</th>\n",
              "      <th>Product Name_Individual Comprehensive Plan</th>\n",
              "      <th>Product Name_Premier Plan</th>\n",
              "      <th>Product Name_Rental Vehicle Excess Insurance</th>\n",
              "      <th>Product Name_Silver Plan</th>\n",
              "      <th>Product Name_Single Trip Travel Protect Gold</th>\n",
              "      <th>Product Name_Single Trip Travel Protect Platinum</th>\n",
              "      <th>Product Name_Single Trip Travel Protect Silver</th>\n",
              "      <th>Product Name_Spouse or Parents Comprehensive Plan</th>\n",
              "      <th>Product Name_Ticket Protector</th>\n",
              "      <th>Product Name_Travel Cruise Protect</th>\n",
              "      <th>Product Name_Travel Cruise Protect Family</th>\n",
              "      <th>Product Name_Value Plan</th>\n",
              "    </tr>\n",
              "  </thead>\n",
              "  <tbody>\n",
              "    <tr>\n",
              "      <th>0</th>\n",
              "      <td>61</td>\n",
              "      <td>19.8</td>\n",
              "      <td>11.88</td>\n",
              "      <td>29</td>\n",
              "      <td>0</td>\n",
              "      <td>0</td>\n",
              "      <td>0</td>\n",
              "      <td>0</td>\n",
              "      <td>0</td>\n",
              "      <td>0</td>\n",
              "      <td>0</td>\n",
              "      <td>1</td>\n",
              "      <td>0</td>\n",
              "      <td>0</td>\n",
              "      <td>0</td>\n",
              "      <td>0</td>\n",
              "      <td>0</td>\n",
              "      <td>0</td>\n",
              "      <td>0</td>\n",
              "      <td>0</td>\n",
              "      <td>0</td>\n",
              "      <td>0</td>\n",
              "      <td>0</td>\n",
              "      <td>1</td>\n",
              "      <td>0</td>\n",
              "      <td>0</td>\n",
              "      <td>0</td>\n",
              "      <td>0</td>\n",
              "      <td>0</td>\n",
              "      <td>0</td>\n",
              "      <td>0</td>\n",
              "      <td>0</td>\n",
              "      <td>0</td>\n",
              "      <td>0</td>\n",
              "      <td>0</td>\n",
              "      <td>0</td>\n",
              "      <td>0</td>\n",
              "      <td>0</td>\n",
              "      <td>0</td>\n",
              "      <td>0</td>\n",
              "      <td>1</td>\n",
              "      <td>0</td>\n",
              "      <td>0</td>\n",
              "      <td>0</td>\n",
              "      <td>0</td>\n",
              "      <td>0</td>\n",
              "      <td>0</td>\n",
              "      <td>0</td>\n",
              "      <td>0</td>\n",
              "      <td>0</td>\n",
              "    </tr>\n",
              "    <tr>\n",
              "      <th>1</th>\n",
              "      <td>93</td>\n",
              "      <td>63.0</td>\n",
              "      <td>0.00</td>\n",
              "      <td>36</td>\n",
              "      <td>0</td>\n",
              "      <td>0</td>\n",
              "      <td>0</td>\n",
              "      <td>0</td>\n",
              "      <td>0</td>\n",
              "      <td>0</td>\n",
              "      <td>0</td>\n",
              "      <td>0</td>\n",
              "      <td>1</td>\n",
              "      <td>0</td>\n",
              "      <td>0</td>\n",
              "      <td>0</td>\n",
              "      <td>0</td>\n",
              "      <td>0</td>\n",
              "      <td>0</td>\n",
              "      <td>0</td>\n",
              "      <td>0</td>\n",
              "      <td>0</td>\n",
              "      <td>0</td>\n",
              "      <td>1</td>\n",
              "      <td>0</td>\n",
              "      <td>0</td>\n",
              "      <td>0</td>\n",
              "      <td>0</td>\n",
              "      <td>0</td>\n",
              "      <td>0</td>\n",
              "      <td>0</td>\n",
              "      <td>0</td>\n",
              "      <td>0</td>\n",
              "      <td>0</td>\n",
              "      <td>1</td>\n",
              "      <td>0</td>\n",
              "      <td>0</td>\n",
              "      <td>0</td>\n",
              "      <td>0</td>\n",
              "      <td>0</td>\n",
              "      <td>0</td>\n",
              "      <td>0</td>\n",
              "      <td>0</td>\n",
              "      <td>0</td>\n",
              "      <td>0</td>\n",
              "      <td>0</td>\n",
              "      <td>0</td>\n",
              "      <td>0</td>\n",
              "      <td>0</td>\n",
              "      <td>0</td>\n",
              "    </tr>\n",
              "    <tr>\n",
              "      <th>2</th>\n",
              "      <td>22</td>\n",
              "      <td>22.0</td>\n",
              "      <td>0.00</td>\n",
              "      <td>25</td>\n",
              "      <td>0</td>\n",
              "      <td>0</td>\n",
              "      <td>0</td>\n",
              "      <td>0</td>\n",
              "      <td>0</td>\n",
              "      <td>0</td>\n",
              "      <td>0</td>\n",
              "      <td>0</td>\n",
              "      <td>1</td>\n",
              "      <td>0</td>\n",
              "      <td>0</td>\n",
              "      <td>0</td>\n",
              "      <td>0</td>\n",
              "      <td>0</td>\n",
              "      <td>0</td>\n",
              "      <td>0</td>\n",
              "      <td>0</td>\n",
              "      <td>0</td>\n",
              "      <td>0</td>\n",
              "      <td>1</td>\n",
              "      <td>0</td>\n",
              "      <td>1</td>\n",
              "      <td>0</td>\n",
              "      <td>0</td>\n",
              "      <td>0</td>\n",
              "      <td>0</td>\n",
              "      <td>0</td>\n",
              "      <td>0</td>\n",
              "      <td>0</td>\n",
              "      <td>0</td>\n",
              "      <td>0</td>\n",
              "      <td>0</td>\n",
              "      <td>0</td>\n",
              "      <td>0</td>\n",
              "      <td>0</td>\n",
              "      <td>0</td>\n",
              "      <td>0</td>\n",
              "      <td>0</td>\n",
              "      <td>0</td>\n",
              "      <td>0</td>\n",
              "      <td>0</td>\n",
              "      <td>0</td>\n",
              "      <td>0</td>\n",
              "      <td>0</td>\n",
              "      <td>0</td>\n",
              "      <td>0</td>\n",
              "    </tr>\n",
              "    <tr>\n",
              "      <th>3</th>\n",
              "      <td>14</td>\n",
              "      <td>54.5</td>\n",
              "      <td>13.63</td>\n",
              "      <td>24</td>\n",
              "      <td>0</td>\n",
              "      <td>0</td>\n",
              "      <td>0</td>\n",
              "      <td>1</td>\n",
              "      <td>0</td>\n",
              "      <td>0</td>\n",
              "      <td>0</td>\n",
              "      <td>0</td>\n",
              "      <td>0</td>\n",
              "      <td>0</td>\n",
              "      <td>0</td>\n",
              "      <td>0</td>\n",
              "      <td>0</td>\n",
              "      <td>0</td>\n",
              "      <td>0</td>\n",
              "      <td>0</td>\n",
              "      <td>0</td>\n",
              "      <td>0</td>\n",
              "      <td>1</td>\n",
              "      <td>0</td>\n",
              "      <td>0</td>\n",
              "      <td>0</td>\n",
              "      <td>0</td>\n",
              "      <td>0</td>\n",
              "      <td>0</td>\n",
              "      <td>0</td>\n",
              "      <td>0</td>\n",
              "      <td>0</td>\n",
              "      <td>0</td>\n",
              "      <td>0</td>\n",
              "      <td>0</td>\n",
              "      <td>0</td>\n",
              "      <td>0</td>\n",
              "      <td>0</td>\n",
              "      <td>0</td>\n",
              "      <td>0</td>\n",
              "      <td>0</td>\n",
              "      <td>1</td>\n",
              "      <td>0</td>\n",
              "      <td>0</td>\n",
              "      <td>0</td>\n",
              "      <td>0</td>\n",
              "      <td>0</td>\n",
              "      <td>0</td>\n",
              "      <td>0</td>\n",
              "      <td>0</td>\n",
              "    </tr>\n",
              "    <tr>\n",
              "      <th>4</th>\n",
              "      <td>90</td>\n",
              "      <td>10.0</td>\n",
              "      <td>0.00</td>\n",
              "      <td>23</td>\n",
              "      <td>0</td>\n",
              "      <td>0</td>\n",
              "      <td>0</td>\n",
              "      <td>0</td>\n",
              "      <td>0</td>\n",
              "      <td>0</td>\n",
              "      <td>0</td>\n",
              "      <td>0</td>\n",
              "      <td>1</td>\n",
              "      <td>0</td>\n",
              "      <td>0</td>\n",
              "      <td>0</td>\n",
              "      <td>0</td>\n",
              "      <td>0</td>\n",
              "      <td>0</td>\n",
              "      <td>0</td>\n",
              "      <td>0</td>\n",
              "      <td>0</td>\n",
              "      <td>0</td>\n",
              "      <td>1</td>\n",
              "      <td>0</td>\n",
              "      <td>0</td>\n",
              "      <td>0</td>\n",
              "      <td>0</td>\n",
              "      <td>0</td>\n",
              "      <td>0</td>\n",
              "      <td>0</td>\n",
              "      <td>0</td>\n",
              "      <td>0</td>\n",
              "      <td>0</td>\n",
              "      <td>1</td>\n",
              "      <td>0</td>\n",
              "      <td>0</td>\n",
              "      <td>0</td>\n",
              "      <td>0</td>\n",
              "      <td>0</td>\n",
              "      <td>0</td>\n",
              "      <td>0</td>\n",
              "      <td>0</td>\n",
              "      <td>0</td>\n",
              "      <td>0</td>\n",
              "      <td>0</td>\n",
              "      <td>0</td>\n",
              "      <td>0</td>\n",
              "      <td>0</td>\n",
              "      <td>0</td>\n",
              "    </tr>\n",
              "  </tbody>\n",
              "</table>\n",
              "</div>"
            ],
            "text/plain": [
              "   Duration  ...  Product Name_Value Plan\n",
              "0        61  ...                        0\n",
              "1        93  ...                        0\n",
              "2        22  ...                        0\n",
              "3        14  ...                        0\n",
              "4        90  ...                        0\n",
              "\n",
              "[5 rows x 50 columns]"
            ]
          },
          "metadata": {
            "tags": []
          },
          "execution_count": 16
        }
      ]
    },
    {
      "cell_type": "code",
      "metadata": {
        "id": "ePHVwX62hdZx"
      },
      "source": [
        "x = data.drop(['Claim'], axis = 1)"
      ],
      "execution_count": null,
      "outputs": []
    },
    {
      "cell_type": "code",
      "metadata": {
        "id": "crLcIUqkjIxm"
      },
      "source": [
        "y = data.Claim"
      ],
      "execution_count": null,
      "outputs": []
    },
    {
      "cell_type": "code",
      "metadata": {
        "id": "nNWYjP1JjYqi"
      },
      "source": [
        "from sklearn.model_selection import train_test_split\r\n",
        "x_train, x_test, y_train, y_test = train_test_split(x, y, test_size=0.33, random_state=101)"
      ],
      "execution_count": null,
      "outputs": []
    },
    {
      "cell_type": "code",
      "metadata": {
        "id": "hm8lFcyJj1Th"
      },
      "source": [
        "# transform the dataset\r\n",
        "from imblearn.over_sampling import SMOTE \r\n",
        "sm = SMOTE(random_state = 2) \r\n",
        "X_train_res, y_train_res = sm.fit_sample(x_train, y_train.ravel())\r\n",
        "X_test_res, y_test_res = sm.fit_sample(x_test, y_test.ravel())"
      ],
      "execution_count": null,
      "outputs": []
    },
    {
      "cell_type": "code",
      "metadata": {
        "colab": {
          "base_uri": "https://localhost:8080/"
        },
        "id": "9YX-GyDuligT",
        "outputId": "8c3f91c3-5a9e-489d-aa65-14944d5c9d5a"
      },
      "source": [
        "from sklearn.linear_model import LogisticRegression\r\n",
        "lr = LogisticRegression().fit(X_train_res, y_train_res)"
      ],
      "execution_count": null,
      "outputs": [
        {
          "output_type": "stream",
          "text": [
            "/usr/local/lib/python3.6/dist-packages/sklearn/linear_model/_logistic.py:764: ConvergenceWarning: lbfgs failed to converge (status=1):\n",
            "STOP: TOTAL NO. of ITERATIONS REACHED LIMIT.\n",
            "\n",
            "Increase the number of iterations (max_iter) or scale the data as shown in:\n",
            "    https://scikit-learn.org/stable/modules/preprocessing.html\n",
            "Please also refer to the documentation for alternative solver options:\n",
            "    https://scikit-learn.org/stable/modules/linear_model.html#logistic-regression\n",
            "  extra_warning_msg=_LOGISTIC_SOLVER_CONVERGENCE_MSG)\n"
          ],
          "name": "stderr"
        }
      ]
    },
    {
      "cell_type": "code",
      "metadata": {
        "id": "4TMde3ibsTC3"
      },
      "source": [
        "from sklearn.metrics import f1_score"
      ],
      "execution_count": null,
      "outputs": []
    },
    {
      "cell_type": "code",
      "metadata": {
        "colab": {
          "base_uri": "https://localhost:8080/"
        },
        "id": "UmaKfRoFqD-i",
        "outputId": "2c7107e9-cc0b-4042-a1f7-2c81cc25947f"
      },
      "source": [
        "print(\"training accuracy\", lr.score(X_train_res, y_train_res))\r\n",
        "print(\"test accuracy\", lr.score(X_test_res, y_test_res))\r\n",
        "pre_tra = lr.predict(X_train_res)\r\n",
        "pre_tes = lr.predict(X_test_res)\r\n",
        "print(\"Training F1 score:\", f1_score(y_train_res, pre_tra))\r\n",
        "print(\"Test F1 score:\", f1_score(y_test_res, pre_tes))"
      ],
      "execution_count": null,
      "outputs": [
        {
          "output_type": "stream",
          "text": [
            "training accuracy 0.8500643500643501\n",
            "test accuracy 0.8630455559095254\n",
            "Training F1 score: 0.8370545994166511\n",
            "Test F1 score: 0.8531712148638957\n"
          ],
          "name": "stdout"
        }
      ]
    },
    {
      "cell_type": "code",
      "metadata": {
        "id": "qHO4Skl0rpYC"
      },
      "source": [
        "from sklearn.tree import DecisionTreeClassifier\r\n",
        "dtc = DecisionTreeClassifier(random_state=1).fit(X_train_res,y_train_res)"
      ],
      "execution_count": null,
      "outputs": []
    },
    {
      "cell_type": "code",
      "metadata": {
        "colab": {
          "base_uri": "https://localhost:8080/"
        },
        "id": "X5SvVAgUrmvg",
        "outputId": "0797684e-927f-45d6-b2a3-6e55ef17dc2e"
      },
      "source": [
        "print(\"training accuracy\", dtc.score(X_train_res, y_train_res))\r\n",
        "print(\"test accuracy\", dtc.score(X_test_res, y_test_res))\r\n",
        "pre_tra = dtc.predict(X_train_res)\r\n",
        "pre_tes = dtc.predict(X_test_res)\r\n",
        "print(\"Training F1 score:\", f1_score(y_train_res, pre_tra))\r\n",
        "print(\"Test F1 score:\", f1_score(y_test_res, pre_tes))"
      ],
      "execution_count": null,
      "outputs": [
        {
          "output_type": "stream",
          "text": [
            "training accuracy 0.9943497504473114\n",
            "test accuracy 0.8524052245938197\n",
            "Training F1 score: 0.9943511689941943\n",
            "Test F1 score: 0.8324957518348457\n"
          ],
          "name": "stdout"
        }
      ]
    },
    {
      "cell_type": "code",
      "metadata": {
        "id": "SdkSqbyKszhP"
      },
      "source": [
        "from sklearn.ensemble import RandomForestClassifier\r\n",
        "rfc = RandomForestClassifier(random_state=1).fit(X_train_res, y_train_res)"
      ],
      "execution_count": null,
      "outputs": []
    },
    {
      "cell_type": "code",
      "metadata": {
        "colab": {
          "base_uri": "https://localhost:8080/"
        },
        "id": "4T5uRJ0At_ff",
        "outputId": "44470f8e-2ab8-47d7-85e3-5d156ad14923"
      },
      "source": [
        "print(\"training accuracy\", rfc.score(X_train_res, y_train_res))\r\n",
        "print(\"test accuracy\", rfc.score(X_test_res, y_test_res))\r\n",
        "pre_tra = rfc.predict(X_train_res)\r\n",
        "pre_tes = rfc.predict(X_test_res)\r\n",
        "print(\"Training F1 score:\", f1_score(y_train_res, pre_tra))\r\n",
        "print(\"Test F1 score:\", f1_score(y_test_res, pre_tes))"
      ],
      "execution_count": null,
      "outputs": [
        {
          "output_type": "stream",
          "text": [
            "training accuracy 0.9943497504473114\n",
            "test accuracy 0.8617712647339917\n",
            "Training F1 score: 0.9943612555604285\n",
            "Test F1 score: 0.8441507129772637\n"
          ],
          "name": "stdout"
        }
      ]
    },
    {
      "cell_type": "code",
      "metadata": {
        "id": "lqgJsnsDuM6m"
      },
      "source": [
        "from sklearn.model_selection import GridSearchCV"
      ],
      "execution_count": null,
      "outputs": []
    },
    {
      "cell_type": "code",
      "metadata": {
        "colab": {
          "base_uri": "https://localhost:8080/"
        },
        "id": "OP7_WrEswffV",
        "outputId": "b97aee9d-3b78-4fff-9b43-f7cfb8932247"
      },
      "source": [
        "param_grid_1 = {'bootstrap': [True],\r\n",
        "'max_depth': [10, 20],\r\n",
        "'min_samples_leaf': [3, 4],\r\n",
        "'min_samples_split': [4, 6],\r\n",
        "'n_estimators': [100, 200],\r\n",
        "\r\n",
        " } \r\n",
        "\r\n",
        "rfc = RandomForestClassifier(random_state=1)\r\n",
        "CV_rfc1 = GridSearchCV(estimator=rfc, param_grid=param_grid_1, cv = 3, n_jobs = -1, verbose = 2)\r\n",
        "CV_rfc1.fit(X_train_res, y_train_res)"
      ],
      "execution_count": null,
      "outputs": [
        {
          "output_type": "stream",
          "text": [
            "Fitting 3 folds for each of 16 candidates, totalling 48 fits\n"
          ],
          "name": "stdout"
        },
        {
          "output_type": "stream",
          "text": [
            "[Parallel(n_jobs=-1)]: Using backend LokyBackend with 2 concurrent workers.\n",
            "[Parallel(n_jobs=-1)]: Done  37 tasks      | elapsed:  2.4min\n",
            "[Parallel(n_jobs=-1)]: Done  48 out of  48 | elapsed:  3.2min finished\n"
          ],
          "name": "stderr"
        },
        {
          "output_type": "execute_result",
          "data": {
            "text/plain": [
              "GridSearchCV(cv=3, estimator=RandomForestClassifier(random_state=1), n_jobs=-1,\n",
              "             param_grid={'bootstrap': [True], 'max_depth': [10, 20],\n",
              "                         'min_samples_leaf': [3, 4],\n",
              "                         'min_samples_split': [4, 6],\n",
              "                         'n_estimators': [100, 200]},\n",
              "             verbose=2)"
            ]
          },
          "metadata": {
            "tags": []
          },
          "execution_count": 60
        }
      ]
    },
    {
      "cell_type": "code",
      "metadata": {
        "colab": {
          "base_uri": "https://localhost:8080/"
        },
        "id": "kW4m3ot-x43C",
        "outputId": "97597c54-fc0b-45af-92f1-6139a4812380"
      },
      "source": [
        "param_grid_2 = {'max_leaf_nodes': [5, 10, 15, 20],\r\n",
        "'min_samples_split': [4, 6, 8, 10]\r\n",
        "\r\n",
        " } \r\n",
        "\r\n",
        "rfc = RandomForestClassifier(random_state=1)\r\n",
        "CV_rfc2 = GridSearchCV(estimator=rfc, param_grid=param_grid_2, cv = 3,n_jobs = -1, verbose = 2)\r\n",
        "CV_rfc2.fit(X_train_res, y_train_res)"
      ],
      "execution_count": null,
      "outputs": [
        {
          "output_type": "stream",
          "text": [
            "Fitting 3 folds for each of 16 candidates, totalling 48 fits\n"
          ],
          "name": "stdout"
        },
        {
          "output_type": "stream",
          "text": [
            "[Parallel(n_jobs=-1)]: Using backend LokyBackend with 2 concurrent workers.\n",
            "[Parallel(n_jobs=-1)]: Done  37 tasks      | elapsed:   57.1s\n",
            "[Parallel(n_jobs=-1)]: Done  48 out of  48 | elapsed:  1.3min finished\n"
          ],
          "name": "stderr"
        },
        {
          "output_type": "execute_result",
          "data": {
            "text/plain": [
              "GridSearchCV(cv=3, estimator=RandomForestClassifier(random_state=1), n_jobs=-1,\n",
              "             param_grid={'max_leaf_nodes': [5, 10, 15, 20],\n",
              "                         'min_samples_split': [4, 6, 8, 10]},\n",
              "             verbose=2)"
            ]
          },
          "metadata": {
            "tags": []
          },
          "execution_count": 61
        }
      ]
    },
    {
      "cell_type": "code",
      "metadata": {
        "colab": {
          "base_uri": "https://localhost:8080/"
        },
        "id": "8GcuhJSryt8K",
        "outputId": "c9a1c505-fbe1-40e7-d6a0-5b1bd753d004"
      },
      "source": [
        "print(CV_rfc1.best_params_)\r\n",
        "print(CV_rfc2.best_params_)"
      ],
      "execution_count": null,
      "outputs": [
        {
          "output_type": "stream",
          "text": [
            "{'bootstrap': True, 'max_depth': 20, 'min_samples_leaf': 3, 'min_samples_split': 4, 'n_estimators': 100}\n",
            "{'max_leaf_nodes': 20, 'min_samples_split': 4}\n"
          ],
          "name": "stdout"
        }
      ]
    },
    {
      "cell_type": "code",
      "metadata": {
        "colab": {
          "base_uri": "https://localhost:8080/"
        },
        "id": "y8ROr_KgzTaA",
        "outputId": "66802866-4325-4e19-f084-f855db4dcc52"
      },
      "source": [
        "pre_tes1 = CV_rfc1.predict(X_test_res)\r\n",
        "pre_tes2 = CV_rfc2.predict(X_test_res)\r\n",
        "print(\"1 Test F1 score:\", f1_score(y_test_res, pre_tes1))\r\n",
        "print(\"2 Test F1 score:\", f1_score(y_test_res, pre_tes2))"
      ],
      "execution_count": null,
      "outputs": [
        {
          "output_type": "stream",
          "text": [
            "1 Test F1 score: 0.8564571347898211\n",
            "2 Test F1 score: 0.8414101258336892\n"
          ],
          "name": "stdout"
        }
      ]
    },
    {
      "cell_type": "code",
      "metadata": {
        "id": "lD6fEC141DgZ"
      },
      "source": [
        "from sklearn.feature_selection import RFE"
      ],
      "execution_count": null,
      "outputs": []
    },
    {
      "cell_type": "code",
      "metadata": {
        "id": "-FWDwdGjz-7v"
      },
      "source": [
        "rfc = RandomForestClassifier(random_state=1)\r\n",
        "selector = RFE(rfc, step=1)\r\n",
        "selector = selector.fit(X_train_res, y_train_res)"
      ],
      "execution_count": null,
      "outputs": []
    },
    {
      "cell_type": "code",
      "metadata": {
        "colab": {
          "base_uri": "https://localhost:8080/",
          "height": 292
        },
        "id": "Lhc0KNvr3JNn",
        "outputId": "582beeb3-6352-4df0-88d5-383172e1f20e"
      },
      "source": [
        "X_train_res.head()"
      ],
      "execution_count": null,
      "outputs": [
        {
          "output_type": "execute_result",
          "data": {
            "text/html": [
              "<div>\n",
              "<style scoped>\n",
              "    .dataframe tbody tr th:only-of-type {\n",
              "        vertical-align: middle;\n",
              "    }\n",
              "\n",
              "    .dataframe tbody tr th {\n",
              "        vertical-align: top;\n",
              "    }\n",
              "\n",
              "    .dataframe thead th {\n",
              "        text-align: right;\n",
              "    }\n",
              "</style>\n",
              "<table border=\"1\" class=\"dataframe\">\n",
              "  <thead>\n",
              "    <tr style=\"text-align: right;\">\n",
              "      <th></th>\n",
              "      <th>Duration</th>\n",
              "      <th>Net Sales</th>\n",
              "      <th>Commision (in value)</th>\n",
              "      <th>Age</th>\n",
              "      <th>Agency_ADM</th>\n",
              "      <th>Agency_ART</th>\n",
              "      <th>Agency_C2B</th>\n",
              "      <th>Agency_CBH</th>\n",
              "      <th>Agency_CCR</th>\n",
              "      <th>Agency_CSR</th>\n",
              "      <th>Agency_CWT</th>\n",
              "      <th>Agency_EPX</th>\n",
              "      <th>Agency_JWT</th>\n",
              "      <th>Agency_JZI</th>\n",
              "      <th>Agency_KML</th>\n",
              "      <th>Agency_LWC</th>\n",
              "      <th>Agency_RAB</th>\n",
              "      <th>Agency_SSI</th>\n",
              "      <th>Agency_TST</th>\n",
              "      <th>Agency_TTW</th>\n",
              "      <th>Gender_F</th>\n",
              "      <th>Gender_M</th>\n",
              "      <th>Gender_Not Specified</th>\n",
              "      <th>Product Name_1 way Comprehensive Plan</th>\n",
              "      <th>Product Name_2 way Comprehensive Plan</th>\n",
              "      <th>Product Name_24 Protect</th>\n",
              "      <th>Product Name_Annual Gold Plan</th>\n",
              "      <th>Product Name_Annual Silver Plan</th>\n",
              "      <th>Product Name_Annual Travel Protect Gold</th>\n",
              "      <th>Product Name_Annual Travel Protect Platinum</th>\n",
              "      <th>Product Name_Annual Travel Protect Silver</th>\n",
              "      <th>Product Name_Basic Plan</th>\n",
              "      <th>Product Name_Bronze Plan</th>\n",
              "      <th>Product Name_Cancellation Plan</th>\n",
              "      <th>Product Name_Child Comprehensive Plan</th>\n",
              "      <th>Product Name_Comprehensive Plan</th>\n",
              "      <th>Product Name_Gold Plan</th>\n",
              "      <th>Product Name_Individual Comprehensive Plan</th>\n",
              "      <th>Product Name_Premier Plan</th>\n",
              "      <th>Product Name_Rental Vehicle Excess Insurance</th>\n",
              "      <th>Product Name_Silver Plan</th>\n",
              "      <th>Product Name_Single Trip Travel Protect Gold</th>\n",
              "      <th>Product Name_Single Trip Travel Protect Platinum</th>\n",
              "      <th>Product Name_Single Trip Travel Protect Silver</th>\n",
              "      <th>Product Name_Spouse or Parents Comprehensive Plan</th>\n",
              "      <th>Product Name_Ticket Protector</th>\n",
              "      <th>Product Name_Travel Cruise Protect</th>\n",
              "      <th>Product Name_Travel Cruise Protect Family</th>\n",
              "      <th>Product Name_Value Plan</th>\n",
              "    </tr>\n",
              "  </thead>\n",
              "  <tbody>\n",
              "    <tr>\n",
              "      <th>0</th>\n",
              "      <td>7</td>\n",
              "      <td>16.0</td>\n",
              "      <td>4.00</td>\n",
              "      <td>33</td>\n",
              "      <td>0</td>\n",
              "      <td>0</td>\n",
              "      <td>1</td>\n",
              "      <td>0</td>\n",
              "      <td>0</td>\n",
              "      <td>0</td>\n",
              "      <td>0</td>\n",
              "      <td>0</td>\n",
              "      <td>0</td>\n",
              "      <td>0</td>\n",
              "      <td>0</td>\n",
              "      <td>0</td>\n",
              "      <td>0</td>\n",
              "      <td>0</td>\n",
              "      <td>0</td>\n",
              "      <td>0</td>\n",
              "      <td>0</td>\n",
              "      <td>1</td>\n",
              "      <td>0</td>\n",
              "      <td>0</td>\n",
              "      <td>0</td>\n",
              "      <td>0</td>\n",
              "      <td>0</td>\n",
              "      <td>0</td>\n",
              "      <td>0</td>\n",
              "      <td>0</td>\n",
              "      <td>0</td>\n",
              "      <td>0</td>\n",
              "      <td>1</td>\n",
              "      <td>0</td>\n",
              "      <td>0</td>\n",
              "      <td>0</td>\n",
              "      <td>0</td>\n",
              "      <td>0</td>\n",
              "      <td>0</td>\n",
              "      <td>0</td>\n",
              "      <td>0</td>\n",
              "      <td>0</td>\n",
              "      <td>0</td>\n",
              "      <td>0</td>\n",
              "      <td>0</td>\n",
              "      <td>0</td>\n",
              "      <td>0</td>\n",
              "      <td>0</td>\n",
              "      <td>0</td>\n",
              "    </tr>\n",
              "    <tr>\n",
              "      <th>1</th>\n",
              "      <td>75</td>\n",
              "      <td>15.0</td>\n",
              "      <td>0.00</td>\n",
              "      <td>32</td>\n",
              "      <td>0</td>\n",
              "      <td>0</td>\n",
              "      <td>0</td>\n",
              "      <td>0</td>\n",
              "      <td>0</td>\n",
              "      <td>0</td>\n",
              "      <td>0</td>\n",
              "      <td>1</td>\n",
              "      <td>0</td>\n",
              "      <td>0</td>\n",
              "      <td>0</td>\n",
              "      <td>0</td>\n",
              "      <td>0</td>\n",
              "      <td>0</td>\n",
              "      <td>0</td>\n",
              "      <td>0</td>\n",
              "      <td>0</td>\n",
              "      <td>0</td>\n",
              "      <td>1</td>\n",
              "      <td>0</td>\n",
              "      <td>0</td>\n",
              "      <td>0</td>\n",
              "      <td>0</td>\n",
              "      <td>0</td>\n",
              "      <td>0</td>\n",
              "      <td>0</td>\n",
              "      <td>0</td>\n",
              "      <td>0</td>\n",
              "      <td>0</td>\n",
              "      <td>1</td>\n",
              "      <td>0</td>\n",
              "      <td>0</td>\n",
              "      <td>0</td>\n",
              "      <td>0</td>\n",
              "      <td>0</td>\n",
              "      <td>0</td>\n",
              "      <td>0</td>\n",
              "      <td>0</td>\n",
              "      <td>0</td>\n",
              "      <td>0</td>\n",
              "      <td>0</td>\n",
              "      <td>0</td>\n",
              "      <td>0</td>\n",
              "      <td>0</td>\n",
              "      <td>0</td>\n",
              "    </tr>\n",
              "    <tr>\n",
              "      <th>2</th>\n",
              "      <td>38</td>\n",
              "      <td>20.0</td>\n",
              "      <td>0.00</td>\n",
              "      <td>38</td>\n",
              "      <td>0</td>\n",
              "      <td>0</td>\n",
              "      <td>0</td>\n",
              "      <td>0</td>\n",
              "      <td>0</td>\n",
              "      <td>0</td>\n",
              "      <td>0</td>\n",
              "      <td>1</td>\n",
              "      <td>0</td>\n",
              "      <td>0</td>\n",
              "      <td>0</td>\n",
              "      <td>0</td>\n",
              "      <td>0</td>\n",
              "      <td>0</td>\n",
              "      <td>0</td>\n",
              "      <td>0</td>\n",
              "      <td>0</td>\n",
              "      <td>0</td>\n",
              "      <td>1</td>\n",
              "      <td>1</td>\n",
              "      <td>0</td>\n",
              "      <td>0</td>\n",
              "      <td>0</td>\n",
              "      <td>0</td>\n",
              "      <td>0</td>\n",
              "      <td>0</td>\n",
              "      <td>0</td>\n",
              "      <td>0</td>\n",
              "      <td>0</td>\n",
              "      <td>0</td>\n",
              "      <td>0</td>\n",
              "      <td>0</td>\n",
              "      <td>0</td>\n",
              "      <td>0</td>\n",
              "      <td>0</td>\n",
              "      <td>0</td>\n",
              "      <td>0</td>\n",
              "      <td>0</td>\n",
              "      <td>0</td>\n",
              "      <td>0</td>\n",
              "      <td>0</td>\n",
              "      <td>0</td>\n",
              "      <td>0</td>\n",
              "      <td>0</td>\n",
              "      <td>0</td>\n",
              "    </tr>\n",
              "    <tr>\n",
              "      <th>3</th>\n",
              "      <td>57</td>\n",
              "      <td>71.0</td>\n",
              "      <td>0.00</td>\n",
              "      <td>24</td>\n",
              "      <td>0</td>\n",
              "      <td>0</td>\n",
              "      <td>0</td>\n",
              "      <td>0</td>\n",
              "      <td>0</td>\n",
              "      <td>0</td>\n",
              "      <td>0</td>\n",
              "      <td>1</td>\n",
              "      <td>0</td>\n",
              "      <td>0</td>\n",
              "      <td>0</td>\n",
              "      <td>0</td>\n",
              "      <td>0</td>\n",
              "      <td>0</td>\n",
              "      <td>0</td>\n",
              "      <td>0</td>\n",
              "      <td>0</td>\n",
              "      <td>0</td>\n",
              "      <td>1</td>\n",
              "      <td>0</td>\n",
              "      <td>1</td>\n",
              "      <td>0</td>\n",
              "      <td>0</td>\n",
              "      <td>0</td>\n",
              "      <td>0</td>\n",
              "      <td>0</td>\n",
              "      <td>0</td>\n",
              "      <td>0</td>\n",
              "      <td>0</td>\n",
              "      <td>0</td>\n",
              "      <td>0</td>\n",
              "      <td>0</td>\n",
              "      <td>0</td>\n",
              "      <td>0</td>\n",
              "      <td>0</td>\n",
              "      <td>0</td>\n",
              "      <td>0</td>\n",
              "      <td>0</td>\n",
              "      <td>0</td>\n",
              "      <td>0</td>\n",
              "      <td>0</td>\n",
              "      <td>0</td>\n",
              "      <td>0</td>\n",
              "      <td>0</td>\n",
              "      <td>0</td>\n",
              "    </tr>\n",
              "    <tr>\n",
              "      <th>4</th>\n",
              "      <td>78</td>\n",
              "      <td>72.5</td>\n",
              "      <td>18.13</td>\n",
              "      <td>38</td>\n",
              "      <td>0</td>\n",
              "      <td>0</td>\n",
              "      <td>1</td>\n",
              "      <td>0</td>\n",
              "      <td>0</td>\n",
              "      <td>0</td>\n",
              "      <td>0</td>\n",
              "      <td>0</td>\n",
              "      <td>0</td>\n",
              "      <td>0</td>\n",
              "      <td>0</td>\n",
              "      <td>0</td>\n",
              "      <td>0</td>\n",
              "      <td>0</td>\n",
              "      <td>0</td>\n",
              "      <td>0</td>\n",
              "      <td>0</td>\n",
              "      <td>1</td>\n",
              "      <td>0</td>\n",
              "      <td>0</td>\n",
              "      <td>0</td>\n",
              "      <td>0</td>\n",
              "      <td>0</td>\n",
              "      <td>0</td>\n",
              "      <td>0</td>\n",
              "      <td>0</td>\n",
              "      <td>0</td>\n",
              "      <td>0</td>\n",
              "      <td>1</td>\n",
              "      <td>0</td>\n",
              "      <td>0</td>\n",
              "      <td>0</td>\n",
              "      <td>0</td>\n",
              "      <td>0</td>\n",
              "      <td>0</td>\n",
              "      <td>0</td>\n",
              "      <td>0</td>\n",
              "      <td>0</td>\n",
              "      <td>0</td>\n",
              "      <td>0</td>\n",
              "      <td>0</td>\n",
              "      <td>0</td>\n",
              "      <td>0</td>\n",
              "      <td>0</td>\n",
              "      <td>0</td>\n",
              "    </tr>\n",
              "  </tbody>\n",
              "</table>\n",
              "</div>"
            ],
            "text/plain": [
              "   Duration  ...  Product Name_Value Plan\n",
              "0         7  ...                        0\n",
              "1        75  ...                        0\n",
              "2        38  ...                        0\n",
              "3        57  ...                        0\n",
              "4        78  ...                        0\n",
              "\n",
              "[5 rows x 49 columns]"
            ]
          },
          "metadata": {
            "tags": []
          },
          "execution_count": 69
        }
      ]
    },
    {
      "cell_type": "code",
      "metadata": {
        "colab": {
          "base_uri": "https://localhost:8080/"
        },
        "id": "K5YXC0uD3COz",
        "outputId": "9a58b20a-bebd-4b1c-9617-ec832e360ad6"
      },
      "source": [
        "print(\"test accuracy\", selector.score(X_test_res, y_test_res))\r\n",
        "pre_tes = elector.predict(X_test_res)\r\n",
        "print(\"Test F1 score:\", f1_score(y_test_res, pre_tes))"
      ],
      "execution_count": null,
      "outputs": [
        {
          "output_type": "stream",
          "text": [
            "test accuracy 0.8377190187957948\n",
            "Test F1 score: 0.8123203890649178\n"
          ],
          "name": "stdout"
        }
      ]
    },
    {
      "cell_type": "code",
      "metadata": {
        "id": "xwwyPF8f5PJK"
      },
      "source": [
        ""
      ],
      "execution_count": null,
      "outputs": []
    }
  ]
}